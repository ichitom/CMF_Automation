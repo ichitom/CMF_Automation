{
 "cells": [
  {
   "cell_type": "code",
   "execution_count": 89,
   "metadata": {},
   "outputs": [],
   "source": [
    "import pandas as pd\n",
    "import numpy as np\n",
    "from vnstock import Vnstock\n",
    "from datetime import datetime\n",
    "import time\n",
    "import logging\n",
    "\n",
    "# logging.getLogger(\"vnstock\").setLevel(logging.CRITICAL)\n",
    "logging.disable(logging.CRITICAL)\n",
    "\n",
    "\n",
    "pd.set_option('display.max_rows', None)  # Display all rows\n",
    "\n",
    "# Get stock data from VCI\n",
    "stock = Vnstock().stock(source='VCI')\n"
   ]
  },
  {
   "cell_type": "code",
   "execution_count": 90,
   "metadata": {},
   "outputs": [
    {
     "name": "stdout",
     "output_type": "stream",
     "text": [
      "Total symbols:  877\n"
     ]
    }
   ],
   "source": [
    "\n",
    "# Get all symbols from HSX and HNX\n",
    "df = stock.listing.symbols_by_exchange()\n",
    "filtered_df = df[df['exchange'].isin(['HSX', 'HNX'])]\n",
    "symbol_list = filtered_df['symbol'].tolist()\n",
    "\n",
    "print('Total symbols: ', len(symbol_list))\n",
    "print('Symbols: ', symbol_list)"
   ]
  },
  {
   "cell_type": "code",
   "execution_count": 91,
   "metadata": {},
   "outputs": [],
   "source": [
    "# Function to fetch historical price data for a given ticker\n",
    "def fetch_price_history(ticker, start_date=None, end_date=None):\n",
    "    if end_date is None:\n",
    "        end_date = datetime.today().strftime('%Y-%m-%d')\n",
    "\n",
    "    try:\n",
    "        # Fetch the price data for the entire date range for the ticker\n",
    "        stock = Vnstock().stock(symbol=ticker, source='VCI')\n",
    "        df = stock.quote.history(start=start_date, end=end_date, to_df=True)\n",
    "\n",
    "        if df.empty:\n",
    "            return pd.DataFrame()\n",
    "\n",
    "        # Sort by 'time' in descending order\n",
    "        df['time'] = pd.to_datetime(df['time'])\n",
    "        df = df.sort_values(by='time', ascending=False)\n",
    "\n",
    "        # wait for 1 second to avoid being blocked\n",
    "        time.sleep(1)\n",
    "\n",
    "        return df[['time', 'high', 'low', 'close', 'volume']]  # Return only time and close price columns\n",
    "    \n",
    "    except Exception as e:\n",
    "        print(f\"Failed to fetch data for {ticker}: {e}\")\n",
    "        return pd.DataFrame()"
   ]
  },
  {
   "cell_type": "code",
   "execution_count": 92,
   "metadata": {},
   "outputs": [
    {
     "name": "stdout",
     "output_type": "stream",
     "text": [
      "Number of CPU cores: 16\n"
     ]
    }
   ],
   "source": [
    "from datetime import datetime\n",
    "import pandas as pd\n",
    "from concurrent.futures import ThreadPoolExecutor, as_completed\n",
    "import os\n",
    "\n",
    "# Define the start and end dates\n",
    "start_date = (datetime.today() - pd.DateOffset(days=40)).strftime('%Y-%m-%d')\n",
    "end_date = datetime.today().strftime('%Y-%m-%d')\n",
    "\n",
    "# Function to fetch data for a single ticker\n",
    "def fetch_data_for_ticker(ticker):\n",
    "    try:\n",
    "        df = fetch_price_history(ticker, start_date, end_date)\n",
    "        if not df.empty:\n",
    "            df['symbol'] = ticker\n",
    "        return df\n",
    "    except Exception as e:\n",
    "        print(f\"Error fetching data for {ticker}: {e}\")\n",
    "        return pd.DataFrame()\n",
    "\n",
    "symbol_list = ['VNM']\n",
    "\n",
    "\n",
    "# Use ThreadPoolExecutor for parallel requests\n",
    "price_data_list = []\n",
    "\n",
    "num_cores = os.cpu_count()\n",
    "\n",
    "\n",
    "with ThreadPoolExecutor(max_workers=num_cores) as executor:  # Adjust `max_workers` as needed\n",
    "    future_to_ticker = {executor.submit(fetch_data_for_ticker, ticker): ticker for ticker in symbol_list}\n",
    "    for future in as_completed(future_to_ticker):\n",
    "        ticker = future_to_ticker[future]\n",
    "        try:\n",
    "            data = future.result()\n",
    "            if not data.empty:\n",
    "                price_data_list.append(data)\n",
    "        except Exception as e:\n",
    "            print(f\"Failed to process {ticker}: {e}\")\n",
    "\n",
    "# Combine all DataFrames into one\n",
    "price_data = pd.concat(price_data_list, ignore_index=True)\n"
   ]
  },
  {
   "cell_type": "code",
   "execution_count": 93,
   "metadata": {},
   "outputs": [
    {
     "name": "stdout",
     "output_type": "stream",
     "text": [
      "         time symbol       cmf\n",
      "0  2025-01-22    VNM -0.515595\n",
      "1  2025-01-21    VNM -0.542508\n",
      "2  2025-01-20    VNM -0.564818\n",
      "3  2025-01-17    VNM -0.416418\n",
      "4  2025-01-16    VNM -0.444945\n",
      "5  2025-01-15    VNM -0.464953\n",
      "6  2025-01-14    VNM -0.450944\n",
      "7  2025-01-13    VNM -0.403239\n",
      "8  2025-01-10    VNM -0.411446\n",
      "9  2025-01-09    VNM       NaN\n",
      "10 2025-01-08    VNM       NaN\n",
      "11 2025-01-07    VNM       NaN\n",
      "12 2025-01-06    VNM       NaN\n",
      "13 2025-01-03    VNM       NaN\n",
      "14 2025-01-02    VNM       NaN\n",
      "15 2024-12-31    VNM       NaN\n",
      "16 2024-12-30    VNM       NaN\n",
      "17 2024-12-27    VNM       NaN\n",
      "18 2024-12-26    VNM       NaN\n",
      "19 2024-12-25    VNM       NaN\n",
      "20 2024-12-24    VNM       NaN\n",
      "21 2024-12-23    VNM       NaN\n",
      "22 2024-12-20    VNM       NaN\n",
      "23 2024-12-19    VNM       NaN\n",
      "24 2024-12-18    VNM       NaN\n",
      "25 2024-12-17    VNM       NaN\n",
      "26 2024-12-16    VNM       NaN\n",
      "27 2024-12-13    VNM       NaN\n"
     ]
    }
   ],
   "source": [
    "# Function to calculate CMF for a single symbol\n",
    "def calculate_cmf(df, period=20):\n",
    "    # Sort by time in chronological order\n",
    "    df = df.sort_values(by='time')\n",
    "    \n",
    "    # Calculate Money Flow Multiplier (MFM)\n",
    "    df['mfm'] = ((df['close'] - df['low']) - (df['high'] - df['close'])) / (df['high'] - df['low']).replace(0, float('nan'))\n",
    "    \n",
    "    # Calculate Money Flow Volume (MFV)\n",
    "    df['mfv'] = df['mfm'] * df['volume']\n",
    "    \n",
    "    # Calculate rolling sums for CMF\n",
    "    df['cmf'] = df['mfv'].rolling(window=period).sum() / df['volume'].rolling(window=period).sum()\n",
    "    \n",
    "    # Sort back to original (reverse) order\n",
    "    df = df.sort_values(by='time', ascending=False)\n",
    "    return df\n",
    "\n",
    "# Explicitly pick the columns you need (including 'symbol')\n",
    "price_data = (\n",
    "    price_data\n",
    "    .groupby('symbol', group_keys=False)[['time', 'symbol', 'high', 'low', 'close', 'volume']]\n",
    "    .apply(calculate_cmf)\n",
    ")\n",
    "\n",
    "\n",
    "# Drop high low close volume mf mfv columns\n",
    "price_data = price_data.drop(columns=['high', 'low', 'close', 'volume', 'mfm', 'mfv'])\n",
    "\n",
    "# Display the DataFrame with the new 'cmf' column\n",
    "print(price_data)\n"
   ]
  },
  {
   "cell_type": "code",
   "execution_count": null,
   "metadata": {},
   "outputs": [],
   "source": [
    "# Function to check the CMF condition for each group (symbol)\n",
    "def check_cmf_condition(df):\n",
    "    # Ensure data is sorted by time in descending order (latest first)\n",
    "    df = df.sort_values(by='time', ascending=True)\n",
    "    \n",
    "    # Calculate the rolling minimum of the last 5 CMF values\n",
    "    df['min_last_5_cmf'] = df['cmf'].rolling(window=5).min()\n",
    "    \n",
    "    # Different between current CMF and the rolling minimum of the last 5 CMF values\n",
    "    df['cmf_diff'] = df['cmf'] - df['min_last_5_cmf']\n",
    "\n",
    "\n",
    "\n",
    "    # Check the condition for rows where rolling minimum is not NaN\n",
    "    # df['is_cmf_condition_met'] = (df['cmf'] > (df['min_last_5_cmf'] + 0.2)) & df['min_last_5_cmf'].notna()\n",
    "    df['is_cmf_condition_met'] = (df['cmf_diff'] > 0.2) & df['min_last_5_cmf'].notna()\n",
    "    \n",
    "    return df\n",
    "\n",
    "# Apply the function to each symbol group\n",
    "price_data = (\n",
    "    price_data\n",
    "    .groupby('symbol', group_keys=False)[['symbol', 'time', 'cmf']]\n",
    "    .apply(check_cmf_condition)\n",
    ")\n",
    "\n",
    "# Filter for the latest row for each symbol to check the condition\n",
    "latest_data = price_data.sort_values(by='time', ascending=False).drop_duplicates(subset=['symbol'])\n"
   ]
  },
  {
   "cell_type": "code",
   "execution_count": 96,
   "metadata": {},
   "outputs": [
    {
     "name": "stdout",
     "output_type": "stream",
     "text": [
      "  symbol       time       cmf  min_last_5_cmf  is_cmf_condition_met\n",
      "0    VNM 2025-01-22 -0.515595       -0.564818                 False\n",
      "Symbols to buy:  []\n"
     ]
    }
   ],
   "source": [
    "\n",
    "# Show results for the latest CMF condition\n",
    "print(latest_data[['symbol', 'time', 'cmf', 'min_last_5_cmf', 'is_cmf_condition_met']])\n",
    "\n",
    "# print the symbols that meet the condition\n",
    "symbols_to_buy = latest_data[latest_data['is_cmf_condition_met']]['symbol'].tolist()\n",
    "print('Symbols to buy: ', symbols_to_buy)\n"
   ]
  }
 ],
 "metadata": {
  "kernelspec": {
   "display_name": "Python 3",
   "language": "python",
   "name": "python3"
  },
  "language_info": {
   "codemirror_mode": {
    "name": "ipython",
    "version": 3
   },
   "file_extension": ".py",
   "mimetype": "text/x-python",
   "name": "python",
   "nbconvert_exporter": "python",
   "pygments_lexer": "ipython3",
   "version": "3.12.8"
  }
 },
 "nbformat": 4,
 "nbformat_minor": 2
}
